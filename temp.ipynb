{
 "cells": [
  {
   "cell_type": "markdown",
   "metadata": {},
   "source": [
    "# Iteration 1"
   ]
  },
  {
   "cell_type": "code",
   "execution_count": 300,
   "metadata": {},
   "outputs": [],
   "source": [
    "#importing required libraries\n",
    "import pandas as pd\n",
    "import numpy as np\n",
    "import seaborn as sns\n",
    "import matplotlib.pyplot as plt\n",
    "%matplotlib inline"
   ]
  },
  {
   "cell_type": "markdown",
   "metadata": {},
   "source": [
    "### Reading csv files and Cleaning"
   ]
  },
  {
   "cell_type": "code",
   "execution_count": 41,
   "metadata": {},
   "outputs": [],
   "source": [
    "df1 = pd.read_csv(\"bandoora.csv\")\n",
    "df1 = df1[['Year', 'Annual']] #selecting only two columns for final dataset\n",
    "df1.columns = ['Year', 'Bandoora'] # changing column name from Annual to Bandoora\n",
    "df1 = df1[df1['Year'] > 1990] #selecting around 30 years of data\n",
    "df1['Bandoora'].fillna((df1['Bandoora'].mean()), inplace=True) #imputing null values with mean of the column"
   ]
  },
  {
   "cell_type": "code",
   "execution_count": 42,
   "metadata": {},
   "outputs": [],
   "source": [
    "df2 = pd.read_csv('bendigo.csv')\n",
    "df2 = df2[['Year', 'Annual']]\n",
    "df2.columns = ['Year', 'Bendigo']\n",
    "df2 = df2[df2['Year'] > 1990]\n",
    "df2['Bendigo'].fillna((df2['Bendigo'].mean()), inplace=True) #imputing null values with mean of the column"
   ]
  },
  {
   "cell_type": "code",
   "execution_count": 43,
   "metadata": {},
   "outputs": [],
   "source": [
    "df3 = pd.read_csv('echuca.csv')\n",
    "df3 = df3[['Year', 'Annual']]\n",
    "df3.columns = ['Year', 'Echuca']\n",
    "df3 = df3[df3['Year'] > 1990]\n",
    "df3['Echuca'].fillna((df3['Echuca'].mean()), inplace=True) #imputing null values with mean of the column"
   ]
  },
  {
   "cell_type": "code",
   "execution_count": 44,
   "metadata": {},
   "outputs": [],
   "source": [
    "#df4 = pd.read_csv('falls creek.csv')\n",
    "#df4 = df4[['Year', 'Annual']]\n",
    "#df4.columns = ['Year', 'Falls Creek']\n",
    "#df4 = df4[df4['Year'] > 1990]\n",
    "#df4['Falls Creek'].fillna((df4['Falls Creek'].mean()), inplace=True)"
   ]
  },
  {
   "cell_type": "code",
   "execution_count": 45,
   "metadata": {},
   "outputs": [],
   "source": [
    "df5 = pd.read_csv('mildura.csv')\n",
    "df5 = df5[['Year', 'Annual']]\n",
    "df5.columns = ['Year', 'Mildura']\n",
    "df5 = df5[df5['Year'] > 1990]\n",
    "df5['Mildura'].fillna((df5['Mildura'].mean()), inplace=True) #imputing null values with mean of the column"
   ]
  },
  {
   "cell_type": "code",
   "execution_count": 46,
   "metadata": {},
   "outputs": [],
   "source": [
    "#df6 = pd.read_csv('portland.csv')\n",
    "#df6 = df6[['Year', 'Annual']]\n",
    "#df6.columns = ['Year', 'Portland']\n",
    "#df6 = df6[df6['Year'] > 1990]\n",
    "#df6['Portland'].fillna((df6['Portland'].mean()), inplace=True)"
   ]
  },
  {
   "cell_type": "code",
   "execution_count": 47,
   "metadata": {},
   "outputs": [],
   "source": [
    "df7 = pd.read_csv('Traralgon.csv')\n",
    "df7 = df7[['Year', 'Annual']]\n",
    "df7.columns = ['Year', 'Traralgon']\n",
    "df7 = df7[df7['Year'] > 1990]\n",
    "df7['Traralgon'].fillna((df7['Traralgon'].mean()), inplace=True) #imputing null values with mean of the column"
   ]
  },
  {
   "cell_type": "code",
   "execution_count": 48,
   "metadata": {},
   "outputs": [],
   "source": [
    "df8 = pd.read_csv('walpeup.csv')\n",
    "df8 = df8[['Year', 'Annual']]\n",
    "df8.columns = ['Year', 'Walpeup']\n",
    "df8 = df8[df8['Year'] > 1990]\n",
    "df8['Walpeup'].fillna((df8['Walpeup'].mean()), inplace=True) #imputing null values with mean of the column"
   ]
  },
  {
   "cell_type": "markdown",
   "metadata": {},
   "source": [
    "## Merging data frames with left join"
   ]
  },
  {
   "cell_type": "code",
   "execution_count": 49,
   "metadata": {},
   "outputs": [],
   "source": [
    "df_merge = df1.merge(df2, how='left') "
   ]
  },
  {
   "cell_type": "code",
   "execution_count": 50,
   "metadata": {},
   "outputs": [],
   "source": [
    "df_merge = df_merge.merge(df3, how='left')"
   ]
  },
  {
   "cell_type": "code",
   "execution_count": 51,
   "metadata": {},
   "outputs": [],
   "source": [
    "#df_merge = df_merge.merge(df4, how='left')"
   ]
  },
  {
   "cell_type": "code",
   "execution_count": 52,
   "metadata": {},
   "outputs": [],
   "source": [
    "df_merge = df_merge.merge(df5, how='left')"
   ]
  },
  {
   "cell_type": "code",
   "execution_count": 53,
   "metadata": {},
   "outputs": [],
   "source": [
    "#df_merge = df_merge.merge(df6, how='left')"
   ]
  },
  {
   "cell_type": "code",
   "execution_count": 54,
   "metadata": {},
   "outputs": [],
   "source": [
    "df_merge = df_merge.merge(df7, how='left')"
   ]
  },
  {
   "cell_type": "code",
   "execution_count": 55,
   "metadata": {},
   "outputs": [],
   "source": [
    "df_merge = df_merge.merge(df8, how='left')"
   ]
  },
  {
   "cell_type": "code",
   "execution_count": 18,
   "metadata": {},
   "outputs": [],
   "source": [
    "#a = df_merge.set_index('Year')"
   ]
  },
  {
   "cell_type": "code",
   "execution_count": 56,
   "metadata": {},
   "outputs": [],
   "source": [
    "a = df_merge.round(1) #rounding values to 1 decimal to get proper observations"
   ]
  },
  {
   "cell_type": "code",
   "execution_count": 169,
   "metadata": {},
   "outputs": [],
   "source": [
    "a.to_csv('temp.csv') #generating new csv file with cleaned dataset"
   ]
  },
  {
   "cell_type": "code",
   "execution_count": null,
   "metadata": {},
   "outputs": [],
   "source": [
    "#df = df_merge.round(1)"
   ]
  },
  {
   "cell_type": "code",
   "execution_count": 58,
   "metadata": {},
   "outputs": [],
   "source": [
    "b = pd.melt(a, id_vars = ['Year']) #using melt function for visualising data"
   ]
  },
  {
   "cell_type": "code",
   "execution_count": 127,
   "metadata": {},
   "outputs": [
    {
     "data": {
      "text/html": [
       "<div>\n",
       "<style scoped>\n",
       "    .dataframe tbody tr th:only-of-type {\n",
       "        vertical-align: middle;\n",
       "    }\n",
       "\n",
       "    .dataframe tbody tr th {\n",
       "        vertical-align: top;\n",
       "    }\n",
       "\n",
       "    .dataframe thead th {\n",
       "        text-align: right;\n",
       "    }\n",
       "</style>\n",
       "<table border=\"1\" class=\"dataframe\">\n",
       "  <thead>\n",
       "    <tr style=\"text-align: right;\">\n",
       "      <th></th>\n",
       "      <th>Year</th>\n",
       "      <th>value</th>\n",
       "    </tr>\n",
       "  </thead>\n",
       "  <tbody>\n",
       "    <tr>\n",
       "      <th>count</th>\n",
       "      <td>168.000000</td>\n",
       "      <td>168.000000</td>\n",
       "    </tr>\n",
       "    <tr>\n",
       "      <th>mean</th>\n",
       "      <td>2004.500000</td>\n",
       "      <td>22.119643</td>\n",
       "    </tr>\n",
       "    <tr>\n",
       "      <th>std</th>\n",
       "      <td>8.101896</td>\n",
       "      <td>1.840634</td>\n",
       "    </tr>\n",
       "    <tr>\n",
       "      <th>min</th>\n",
       "      <td>1991.000000</td>\n",
       "      <td>18.600000</td>\n",
       "    </tr>\n",
       "    <tr>\n",
       "      <th>25%</th>\n",
       "      <td>1997.750000</td>\n",
       "      <td>20.575000</td>\n",
       "    </tr>\n",
       "    <tr>\n",
       "      <th>50%</th>\n",
       "      <td>2004.500000</td>\n",
       "      <td>22.000000</td>\n",
       "    </tr>\n",
       "    <tr>\n",
       "      <th>75%</th>\n",
       "      <td>2011.250000</td>\n",
       "      <td>23.700000</td>\n",
       "    </tr>\n",
       "    <tr>\n",
       "      <th>max</th>\n",
       "      <td>2018.000000</td>\n",
       "      <td>25.800000</td>\n",
       "    </tr>\n",
       "  </tbody>\n",
       "</table>\n",
       "</div>"
      ],
      "text/plain": [
       "              Year       value\n",
       "count   168.000000  168.000000\n",
       "mean   2004.500000   22.119643\n",
       "std       8.101896    1.840634\n",
       "min    1991.000000   18.600000\n",
       "25%    1997.750000   20.575000\n",
       "50%    2004.500000   22.000000\n",
       "75%    2011.250000   23.700000\n",
       "max    2018.000000   25.800000"
      ]
     },
     "execution_count": 127,
     "metadata": {},
     "output_type": "execute_result"
    }
   ],
   "source": [
    "b.describe()"
   ]
  },
  {
   "cell_type": "markdown",
   "metadata": {},
   "source": [
    "## Visualising data using seaborn library"
   ]
  },
  {
   "cell_type": "code",
   "execution_count": 385,
   "metadata": {},
   "outputs": [
    {
     "data": {
      "image/png": "[encoded data removed]",
      "text/plain": [
       "<Figure size 432x288 with 1 Axes>"
      ]
     },
     "metadata": {},
     "output_type": "display_data"
    }
   ],
   "source": [
    "sns.lineplot(data=b, x='Year', y='value', color='darkblue', size_norm=(10,10))\n",
    "plt.xlabel(\"Year\", size=16)\n",
    "plt.ylabel(\"Temperature in Celsius\", size=15)\n",
    "sns.despine()\n",
    "plt.savefig('Temperature.png', dpi=300)"
   ]
  }
 ],
 "metadata": {
  "kernelspec": {
   "display_name": "Python 3",
   "language": "python",
   "name": "python3"
  },
  "language_info": {
   "codemirror_mode": {
    "name": "ipython",
    "version": 3
   },
   "file_extension": ".py",
   "mimetype": "text/x-python",
   "name": "python",
   "nbconvert_exporter": "python",
   "pygments_lexer": "ipython3",
   "version": "3.8.5"
  }
 },
 "nbformat": 4,
 "nbformat_minor": 4
}
