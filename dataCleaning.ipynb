{
 "cells": [
  {
   "cell_type": "markdown",
   "metadata": {},
   "source": [
    "# Rainfall Datasets"
   ]
  },
  {
   "cell_type": "code",
   "execution_count": 1,
   "metadata": {},
   "outputs": [],
   "source": [
    "import pandas as pd\n",
    "import numpy as np\n",
    "import seaborn as sns\n",
    "import matplotlib.pyplot as plt\n",
    "import glob\n",
    "import plotly.graph_objects as go"
   ]
  },
  {
   "cell_type": "code",
   "execution_count": 2,
   "metadata": {},
   "outputs": [],
   "source": [
    "#import pandas as pd\n",
    "#import glob\n",
    "\n",
    "#path = r'C:\\Users\\prate\\Documents\\IE\\Assignment1\\Data\\DroughtWise\\rainfall' # use your path\n",
    "#all_files = glob.glob(path + \"/*.csv\")\n",
    "\n",
    "#li = []\n",
    "\n",
    "#for filename in all_files:\n",
    "#    df = pd.read_csv(filename, index_col=None, header=0)\n",
    "#    li.append(df)\n",
    "\n",
    "#frame = pd.concat(li, axis=0, ignore_index=True)"
   ]
  },
  {
   "cell_type": "markdown",
   "metadata": {},
   "source": [
    "# Feature Selection and Feature Engineering"
   ]
  },
  {
   "cell_type": "markdown",
   "metadata": {},
   "source": [
    "##### Here I am going to read every file individually using pandas read_csv function. After that, required columns will filtered and then we can start imputing the column using mean or median. Atlast, we will change the name of the column according to the location. This process can be done for each and every csv file."
   ]
  },
  {
   "cell_type": "code",
   "execution_count": 3,
   "metadata": {},
   "outputs": [],
   "source": [
    "df1 = pd.read_csv(\"bacchus-marsh.csv\")\n",
    "df1 = df1[['Year', 'Annual']] #selecting only two columns for the final dataset\n",
    "df1 = df1[(df1['Year'] > 1990) & (df1['Year']<2019)] #selecting range of years for selecting 28 years of data\n",
    "\n",
    "#Using if else statement can help us to identify the columns having more null values \n",
    "#So mean cannot be useful in this state, we'll use median for imputing\n",
    "if df1['Annual'].isnull().sum() < len(df1['Annual'])*0.3:\n",
    "    df1['Annual'].fillna((df1['Annual'].mean()), inplace=True) \n",
    "else:\n",
    "    df1['Annual'].fillna((df1['Annual'].median()), inplace=True)\n",
    "    \n",
    "#changing name of the columns according to the location name    \n",
    "df1.columns = ['Year', 'Bacchus']"
   ]
  },
  {
   "cell_type": "code",
   "execution_count": 4,
   "metadata": {},
   "outputs": [],
   "source": [
    "df2 = pd.read_csv(\"bairnsdale.csv\")\n",
    "df2 = df2[['Year', 'Annual']] #selecting only two columns for the final dataset\n",
    "df2 = df2[(df2['Year'] > 1990) & (df2['Year']<2019)]\n",
    "if df2['Annual'].isnull().sum() < len(df2['Annual'])*0.3:\n",
    "    df2['Annual'].fillna((df2['Annual'].mean()), inplace=True) \n",
    "else:\n",
    "    df2['Annual'].fillna((df2['Annual'].median()), inplace=True)\n",
    "    \n",
    "df2.columns = ['Year', 'Bairnsdale']"
   ]
  },
  {
   "cell_type": "code",
   "execution_count": 5,
   "metadata": {},
   "outputs": [],
   "source": [
    "df3 = pd.read_csv(\"ballarat.csv\")\n",
    "df3 = df3[['Year', 'Annual']] #selecting only two columns for the final dataset\n",
    "df3 = df3[(df3['Year'] > 1990) & (df3['Year']<2019)]\n",
    "if df3['Annual'].isnull().sum() < len(df3['Annual'])*0.3:\n",
    "    df3['Annual'].fillna((df3['Annual'].mean()), inplace=True) \n",
    "else:\n",
    "    df3['Annual'].fillna((df3['Annual'].median()), inplace=True)\n",
    "    \n",
    "df3.columns = ['Year', 'Ballarat']"
   ]
  },
  {
   "cell_type": "code",
   "execution_count": 6,
   "metadata": {},
   "outputs": [],
   "source": [
    "df4 = pd.read_csv(\"bendigo.csv\")\n",
    "df4 = df4[['Year', 'Annual']] #selecting only two columns for the final dataset\n",
    "df4 = df4[(df4['Year'] > 1990) & (df4['Year']<2019)]\n",
    "if df4['Annual'].isnull().sum() < len(df4['Annual'])*0.3:\n",
    "    df4['Annual'].fillna((df4['Annual'].mean()), inplace=True) \n",
    "else:\n",
    "    df4['Annual'].fillna((df4['Annual'].median()), inplace=True)\n",
    "    \n",
    "df4.columns = ['Year', 'Bendigo']"
   ]
  },
  {
   "cell_type": "code",
   "execution_count": 7,
   "metadata": {},
   "outputs": [],
   "source": [
    "df5 = pd.read_csv(\"buchan.csv\")\n",
    "df5 = df5[['Year', 'Annual']] #selecting only two columns for the final dataset\n",
    "df5 = df5[(df5['Year'] > 1990) & (df5['Year']<2019)]\n",
    "if df5['Annual'].isnull().sum() < len(df5['Annual'])*0.3:\n",
    "    df5['Annual'].fillna((df5['Annual'].mean()), inplace=True) \n",
    "else:\n",
    "    df5['Annual'].fillna((df5['Annual'].median()), inplace=True)\n",
    "    \n",
    "df5.columns = ['Year', 'Buchan']"
   ]
  },
  {
   "cell_type": "code",
   "execution_count": 8,
   "metadata": {},
   "outputs": [],
   "source": [
    "df6 = pd.read_csv(\"caufield.csv\")\n",
    "df6 = df6[['Year', 'Annual']] #selecting only two columns for the final dataset\n",
    "df6 = df6[(df6['Year'] > 1990) & (df6['Year']<2019)]\n",
    "if df6['Annual'].isnull().sum() < len(df6['Annual'])*0.3:\n",
    "    df6['Annual'].fillna((df6['Annual'].mean()), inplace=True) \n",
    "else:\n",
    "    df6['Annual'].fillna((df6['Annual'].median()), inplace=True)\n",
    "    \n",
    "df6.columns = ['Year', 'Caufield']"
   ]
  },
  {
   "cell_type": "code",
   "execution_count": 9,
   "metadata": {},
   "outputs": [],
   "source": [
    "df7 = pd.read_csv(\"colac.csv\")\n",
    "df7 = df7[['Year', 'Annual']] #selecting only two columns for the final dataset\n",
    "df7 = df7[(df7['Year'] > 1990) & (df7['Year']<2019)]\n",
    "if df7['Annual'].isnull().sum() < len(df7['Annual'])*0.3:\n",
    "    df7['Annual'].fillna((df7['Annual'].mean()), inplace=True) \n",
    "else:\n",
    "    df7['Annual'].fillna((df7['Annual'].median()), inplace=True)\n",
    "    \n",
    "df7.columns = ['Year', 'Colac']"
   ]
  },
  {
   "cell_type": "code",
   "execution_count": 10,
   "metadata": {},
   "outputs": [],
   "source": [
    "df8 = pd.read_csv(\"corryong.csv\")\n",
    "df8 = df8[['Year', 'Annual']] #selecting only two columns for the final dataset\n",
    "df8 = df8[(df8['Year'] > 1990) & (df8['Year']<2019)]\n",
    "if df8['Annual'].isnull().sum() < len(df8['Annual'])*0.3:\n",
    "    df8['Annual'].fillna((df8['Annual'].mean()), inplace=True) \n",
    "else:\n",
    "    df8['Annual'].fillna((df8['Annual'].median()), inplace=True)\n",
    "    \n",
    "df8.columns = ['Year', 'Corryong']"
   ]
  },
  {
   "cell_type": "code",
   "execution_count": 11,
   "metadata": {},
   "outputs": [],
   "source": [
    "df9 = pd.read_csv(\"dargo.csv\")\n",
    "df9 = df9[['Year', 'Annual']] #selecting only two columns for the final dataset\n",
    "df9 = df9[(df9['Year'] > 1990) & (df9['Year']<2019)]\n",
    "if df9['Annual'].isnull().sum() < len(df9['Annual'])*0.3:\n",
    "    df9['Annual'].fillna((df9['Annual'].mean()), inplace=True) \n",
    "else:\n",
    "    df9['Annual'].fillna((df9['Annual'].median()), inplace=True)\n",
    "    \n",
    "df9.columns = ['Year', 'Dargo']"
   ]
  },
  {
   "cell_type": "code",
   "execution_count": 12,
   "metadata": {},
   "outputs": [],
   "source": [
    "df10 = pd.read_csv(\"daylesford.csv\")\n",
    "df10 = df10[['Year', 'Annual']] #selecting only two columns for the final dataset\n",
    "df10 = df10[(df10['Year'] > 1990) & (df10['Year']<2019)]\n",
    "if df10['Annual'].isnull().sum() < len(df10['Annual'])*0.3:\n",
    "    df10['Annual'].fillna((df10['Annual'].mean()), inplace=True) \n",
    "else:\n",
    "    df10['Annual'].fillna((df10['Annual'].median()), inplace=True)\n",
    "    \n",
    "df10.columns = ['Year', 'Daylesford']"
   ]
  },
  {
   "cell_type": "code",
   "execution_count": 13,
   "metadata": {},
   "outputs": [],
   "source": [
    "df11 = pd.read_csv(\"echuca.csv\")\n",
    "df11 = df11[['Year', 'Annual']] #selecting only two columns for the final dataset\n",
    "df11 = df11[(df11['Year'] > 1990) & (df11['Year']<2019)]\n",
    "if df11['Annual'].isnull().sum() < len(df11['Annual'])*0.3:\n",
    "    df11['Annual'].fillna((df11['Annual'].mean()), inplace=True) \n",
    "else:\n",
    "    df11['Annual'].fillna((df11['Annual'].median()), inplace=True)\n",
    "    \n",
    "df11.columns = ['Year', 'Echuca']"
   ]
  },
  {
   "cell_type": "code",
   "execution_count": 14,
   "metadata": {},
   "outputs": [],
   "source": [
    "df12 = pd.read_csv(\"edenhope.csv\")\n",
    "df12 = df12[['Year', 'Annual']] #selecting only two columns for the final dataset\n",
    "df12 = df12[(df12['Year'] > 1990) & (df12['Year']<2019)]\n",
    "if df12['Annual'].isnull().sum() < len(df12['Annual'])*0.3:\n",
    "    df12['Annual'].fillna((df12['Annual'].mean()), inplace=True) \n",
    "else:\n",
    "    df12['Annual'].fillna((df12['Annual'].median()), inplace=True)\n",
    "    \n",
    "df12.columns = ['Year', 'Edenhope']"
   ]
  },
  {
   "cell_type": "code",
   "execution_count": 15,
   "metadata": {},
   "outputs": [],
   "source": [
    "df13 = pd.read_csv(\"euroa.csv\")\n",
    "df13 = df13[['Year', 'Annual']] #selecting only two columns for the final dataset\n",
    "df13 = df13[(df13['Year'] > 1990) & (df13['Year']<2019)]\n",
    "if df13['Annual'].isnull().sum() < len(df13['Annual'])*0.3:\n",
    "    df13['Annual'].fillna((df13['Annual'].mean()), inplace=True) \n",
    "else:\n",
    "    df13['Annual'].fillna((df13['Annual'].median()), inplace=True)\n",
    "    \n",
    "df13.columns = ['Year', 'Euroa']"
   ]
  },
  {
   "cell_type": "code",
   "execution_count": null,
   "metadata": {},
   "outputs": [],
   "source": []
  },
  {
   "cell_type": "code",
   "execution_count": 16,
   "metadata": {},
   "outputs": [],
   "source": [
    "df14 = pd.read_csv(\"frankston.csv\")\n",
    "df14 = df14[['Year', 'Annual']] #selecting only two columns for the final dataset\n",
    "df14 = df14[(df14['Year'] > 1990) & (df14['Year']<2019)]\n",
    "if df14['Annual'].isnull().sum() < len(df14['Annual'])*0.3:\n",
    "    df14['Annual'].fillna((df14['Annual'].mean()), inplace=True) \n",
    "else:\n",
    "    df14['Annual'].fillna((df14['Annual'].median()), inplace=True)\n",
    "    \n",
    "df14.columns = ['Year', 'Frankston']"
   ]
  },
  {
   "cell_type": "code",
   "execution_count": 17,
   "metadata": {},
   "outputs": [],
   "source": [
    "df15 = pd.read_csv(\"geelong.csv\")\n",
    "df15 = df15[['Year', 'Annual']] #selecting only two columns for the final dataset\n",
    "df15 = df15[(df15['Year'] > 1990) & (df15['Year']<2019)]\n",
    "if df15['Annual'].isnull().sum() < len(df15['Annual'])*0.3:\n",
    "    df15['Annual'].fillna((df15['Annual'].mean()), inplace=True) \n",
    "else:\n",
    "    df15['Annual'].fillna((df15['Annual'].median()), inplace=True)\n",
    "    \n",
    "df15.columns = ['Year', 'Geelong']"
   ]
  },
  {
   "cell_type": "code",
   "execution_count": 18,
   "metadata": {},
   "outputs": [],
   "source": [
    "df16 = pd.read_csv(\"hamilton.csv\")\n",
    "df16 = df16[['Year', 'Annual']] #selecting only two columns for the final dataset\n",
    "df16 = df16[(df16['Year'] > 1990) & (df16['Year']<2019)]\n",
    "if df16['Annual'].isnull().sum() < len(df16['Annual'])*0.3:\n",
    "    df16['Annual'].fillna((df16['Annual'].mean()), inplace=True) \n",
    "else:\n",
    "    df16['Annual'].fillna((df16['Annual'].median()), inplace=True)\n",
    "    \n",
    "df16.columns = ['Year', 'Hamilton']"
   ]
  },
  {
   "cell_type": "code",
   "execution_count": 19,
   "metadata": {},
   "outputs": [],
   "source": [
    "df17 = pd.read_csv(\"horsham.csv\")\n",
    "df17 = df17[['Year', 'Annual']] #selecting only two columns for the final dataset\n",
    "df17 = df17[(df17['Year'] > 1990) & (df17['Year']<2019)]\n",
    "if df17['Annual'].isnull().sum() < len(df17['Annual'])*0.3:\n",
    "    df17['Annual'].fillna((df17['Annual'].mean()), inplace=True) \n",
    "else:\n",
    "    df17['Annual'].fillna((df17['Annual'].median()), inplace=True)\n",
    "    \n",
    "df17.columns = ['Year', 'Horsham']"
   ]
  },
  {
   "cell_type": "code",
   "execution_count": 20,
   "metadata": {},
   "outputs": [],
   "source": [
    "df18 = pd.read_csv(\"kerang.csv\")\n",
    "df18 = df18[['Year', 'Annual']] #selecting only two columns for the final dataset\n",
    "df18 = df18[(df18['Year'] > 1990) & (df18['Year']<2019)]\n",
    "if df18['Annual'].isnull().sum() < len(df18['Annual'])*0.3:\n",
    "    df18['Annual'].fillna((df18['Annual'].mean()), inplace=True) \n",
    "else:\n",
    "    df18['Annual'].fillna((df18['Annual'].median()), inplace=True)\n",
    "    \n",
    "df18.columns = ['Year', 'Kerang']"
   ]
  },
  {
   "cell_type": "code",
   "execution_count": 21,
   "metadata": {},
   "outputs": [],
   "source": [
    "df19 = pd.read_csv(\"lascelles.csv\")\n",
    "df19 = df19[['Year', 'Annual']] #selecting only two columns for the final dataset\n",
    "df19 = df19[(df19['Year'] > 1990) & (df19['Year']<2019)]\n",
    "if df19['Annual'].isnull().sum() < len(df19['Annual'])*0.3:\n",
    "    df19['Annual'].fillna((df19['Annual'].mean()), inplace=True) \n",
    "else:\n",
    "    df19['Annual'].fillna((df19['Annual'].median()), inplace=True)\n",
    "    \n",
    "df19.columns = ['Year', 'Lascelles']"
   ]
  },
  {
   "cell_type": "code",
   "execution_count": 22,
   "metadata": {},
   "outputs": [],
   "source": [
    "df20 = pd.read_csv(\"mansfield.csv\")\n",
    "df20 = df20[['Year', 'Annual']] #selecting only two columns for the final dataset\n",
    "df20 = df20[(df20['Year'] > 1990) & (df20['Year']<2019)]\n",
    "if df20['Annual'].isnull().sum() < len(df20['Annual'])*0.3:\n",
    "    df20['Annual'].fillna((df20['Annual'].mean()), inplace=True) \n",
    "else:\n",
    "    df20['Annual'].fillna((df20['Annual'].median()), inplace=True)\n",
    "    \n",
    "df20.columns = ['Year', 'Mansfield']"
   ]
  },
  {
   "cell_type": "code",
   "execution_count": 23,
   "metadata": {},
   "outputs": [],
   "source": [
    "df21 = pd.read_csv(\"maryborough.csv\")\n",
    "df21 = df21[['Year', 'Annual']] #selecting only two columns for the final dataset\n",
    "df21 = df21[(df21['Year'] > 1990) & (df21['Year']<2019)]\n",
    "if df21['Annual'].isnull().sum() < len(df21['Annual'])*0.3:\n",
    "    df21['Annual'].fillna((df21['Annual'].mean()), inplace=True) \n",
    "else:\n",
    "    df21['Annual'].fillna((df21['Annual'].median()), inplace=True)\n",
    "    \n",
    "df21.columns = ['Year', 'Maryborough']"
   ]
  },
  {
   "cell_type": "code",
   "execution_count": 24,
   "metadata": {},
   "outputs": [],
   "source": [
    "df22 = pd.read_csv(\"mildura.csv\")\n",
    "df22 = df22[['Year', 'Annual']] #selecting only two columns for the final dataset\n",
    "df22 = df22[(df22['Year'] > 1990) & (df22['Year']<2019)]\n",
    "if df22['Annual'].isnull().sum() < len(df22['Annual'])*0.3:\n",
    "    df22['Annual'].fillna((df22['Annual'].mean()), inplace=True) \n",
    "else:\n",
    "    df22['Annual'].fillna((df22['Annual'].median()), inplace=True)\n",
    "    \n",
    "df22.columns = ['Year', 'Mildura']"
   ]
  },
  {
   "cell_type": "code",
   "execution_count": 25,
   "metadata": {},
   "outputs": [],
   "source": [
    "df23 = pd.read_csv(\"mtbawbaw.csv\")\n",
    "df23 = df23[['Year', 'Annual']] #selecting only two columns for the final dataset\n",
    "df23 = df23[(df23['Year'] > 1990) & (df23['Year']<2019)]\n",
    "if df23['Annual'].isnull().sum() < len(df23['Annual'])*0.3:\n",
    "    df23['Annual'].fillna((df23['Annual'].mean()), inplace=True) \n",
    "else:\n",
    "    df23['Annual'].fillna((df23['Annual'].median()), inplace=True)\n",
    "    \n",
    "df23.columns = ['Year', 'Mtbaw']"
   ]
  },
  {
   "cell_type": "code",
   "execution_count": 26,
   "metadata": {},
   "outputs": [],
   "source": [
    "df24 = pd.read_csv(\"murrayville.csv\")\n",
    "df24 = df24[['Year', 'Annual']] #selecting only two columns for the final dataset\n",
    "df24 = df24[(df24['Year'] > 1990) & (df24['Year']<2019)]\n",
    "if df24['Annual'].isnull().sum() < len(df24['Annual'])*0.3:\n",
    "    df24['Annual'].fillna((df24['Annual'].mean()), inplace=True) \n",
    "else:\n",
    "    df24['Annual'].fillna((df24['Annual'].median()), inplace=True)\n",
    "    \n",
    "df24.columns = ['Year', 'Murrayville']"
   ]
  },
  {
   "cell_type": "code",
   "execution_count": 27,
   "metadata": {},
   "outputs": [],
   "source": [
    "df25 = pd.read_csv(\"orbost.csv\")\n",
    "df25 = df25[['Year', 'Annual']] #selecting only two columns for the final dataset\n",
    "df25 = df25[(df25['Year'] > 1990) & (df25['Year']<2019)]\n",
    "if df25['Annual'].isnull().sum() < len(df25['Annual'])*0.3:\n",
    "    df25['Annual'].fillna((df25['Annual'].mean()), inplace=True) \n",
    "else:\n",
    "    df25['Annual'].fillna((df25['Annual'].median()), inplace=True)\n",
    "    \n",
    "df25.columns = ['Year', 'Orbost']"
   ]
  },
  {
   "cell_type": "code",
   "execution_count": 28,
   "metadata": {},
   "outputs": [],
   "source": [
    "df26 = pd.read_csv(\"ouyen.csv\")\n",
    "df26 = df26[['Year', 'Annual']] #selecting only two columns for the final dataset\n",
    "df26 = df26[(df26['Year'] > 1990) & (df26['Year']<2019)]\n",
    "if df26['Annual'].isnull().sum() < len(df26['Annual'])*0.3:\n",
    "    df26['Annual'].fillna((df26['Annual'].mean()), inplace=True) \n",
    "else:\n",
    "    df26['Annual'].fillna((df26['Annual'].median()), inplace=True)\n",
    "    \n",
    "df26.columns = ['Year', 'Ouyen']"
   ]
  },
  {
   "cell_type": "code",
   "execution_count": 29,
   "metadata": {},
   "outputs": [],
   "source": [
    "df27 = pd.read_csv(\"portland.csv\")\n",
    "df27 = df27[['Year', 'Annual']] #selecting only two columns for the final dataset\n",
    "df27 = df27[(df27['Year'] > 1990) & (df27['Year']<2019)]\n",
    "df27 = df27.interpolate()\n",
    "if df27['Annual'].isnull().sum() < len(df27['Annual'])*0.3:\n",
    "    df27['Annual'].fillna((df27['Annual'].mean()), inplace=True) \n",
    "else:\n",
    "    df27['Annual'].fillna((df27['Annual'].median()), inplace=True)\n",
    "    \n",
    "df27.columns = ['Year', 'Portland']"
   ]
  },
  {
   "cell_type": "code",
   "execution_count": 30,
   "metadata": {},
   "outputs": [],
   "source": [
    "df28 = pd.read_csv(\"rainbow.csv\")\n",
    "df28 = df28[['Year', 'Annual']] #selecting only two columns for the final dataset\n",
    "df28 = df28[(df28['Year'] > 1990) & (df28['Year']<2019)]\n",
    "if df28['Annual'].isnull().sum() < len(df28['Annual'])*0.3:\n",
    "    df28['Annual'].fillna((df28['Annual'].mean()), inplace=True) \n",
    "else:\n",
    "    df28['Annual'].fillna((df28['Annual'].median()), inplace=True)\n",
    "    \n",
    "df28.columns = ['Year', 'Rainbow Werrap']"
   ]
  },
  {
   "cell_type": "code",
   "execution_count": 31,
   "metadata": {},
   "outputs": [],
   "source": [
    "df29 = pd.read_csv(\"sale.csv\")\n",
    "df29 = df29[['Year', 'Annual']] #selecting only two columns for the final dataset\n",
    "df29 = df29[(df29['Year'] > 1990) & (df29['Year']<2019)]\n",
    "if df29['Annual'].isnull().sum() < len(df29['Annual'])*0.3:\n",
    "    df29['Annual'].fillna((df29['Annual'].mean()), inplace=True) \n",
    "else:\n",
    "    df29['Annual'].fillna((df29['Annual'].median()), inplace=True)\n",
    "    \n",
    "df29.columns = ['Year', 'Sale']"
   ]
  },
  {
   "cell_type": "code",
   "execution_count": 32,
   "metadata": {},
   "outputs": [],
   "source": [
    "df30 = pd.read_csv(\"seymour.csv\")\n",
    "df30 = df30[['Year', 'Annual']] #selecting only two columns for the final dataset\n",
    "df30 = df30[(df30['Year'] > 1990) & (df30['Year']<2019)]\n",
    "if df30['Annual'].isnull().sum() < len(df30['Annual'])*0.3:\n",
    "    df30['Annual'].fillna((df30['Annual'].mean()), inplace=True) \n",
    "else:\n",
    "    df30['Annual'].fillna((df30['Annual'].median()), inplace=True)\n",
    "    \n",
    "df30.columns = ['Year', 'Seymour']"
   ]
  },
  {
   "cell_type": "code",
   "execution_count": 33,
   "metadata": {},
   "outputs": [],
   "source": [
    "df31 = pd.read_csv(\"shepparton.csv\")\n",
    "df31 = df31[['Year', 'Annual']] #selecting only two columns for the final dataset\n",
    "df31 = df31[(df31['Year'] > 1990) & (df31['Year']<2019)]\n",
    "if df31['Annual'].isnull().sum() < len(df31['Annual'])*0.3:\n",
    "    df31['Annual'].fillna((df31['Annual'].mean()), inplace=True) \n",
    "else:\n",
    "    df31['Annual'].fillna((df31['Annual'].median()), inplace=True)\n",
    "    \n",
    "df31.columns = ['Year', 'Shepparton']"
   ]
  },
  {
   "cell_type": "code",
   "execution_count": 34,
   "metadata": {},
   "outputs": [],
   "source": [
    "df32 = pd.read_csv(\"stawell.csv\")\n",
    "df32 = df32[['Year', 'Annual']] #selecting only two columns for the final dataset\n",
    "df32 = df32[(df32['Year'] > 1990) & (df32['Year']<2019)]\n",
    "if df32['Annual'].isnull().sum() < len(df32['Annual'])*0.3:\n",
    "    df32['Annual'].fillna((df32['Annual'].mean()), inplace=True) \n",
    "else:\n",
    "    df32['Annual'].fillna((df32['Annual'].median()), inplace=True)\n",
    "    \n",
    "df32.columns = ['Year', 'Stawell']"
   ]
  },
  {
   "cell_type": "code",
   "execution_count": 35,
   "metadata": {},
   "outputs": [],
   "source": [
    "df33 = pd.read_csv(\"swanhill.csv\")\n",
    "df33 = df33[['Year', 'Annual']] #selecting only two columns for the final dataset\n",
    "df33 = df33[(df33['Year'] > 1990) & (df33['Year']<2019)]\n",
    "if df33['Annual'].isnull().sum() < len(df33['Annual'])*0.3:\n",
    "    df33['Annual'].fillna((df33['Annual'].mean()), inplace=True) \n",
    "else:\n",
    "    df33['Annual'].fillna((df33['Annual'].median()), inplace=True)\n",
    "    \n",
    "df33.columns = ['Year', 'Swanhill']"
   ]
  },
  {
   "cell_type": "code",
   "execution_count": 36,
   "metadata": {},
   "outputs": [],
   "source": [
    "df34 = pd.read_csv(\"traralgon.csv\")\n",
    "df34 = df34[['Year', 'Annual']] #selecting only two columns for the final dataset\n",
    "df34 = df34[(df34['Year'] > 1990) & (df34['Year']<2019)]\n",
    "if df34['Annual'].isnull().sum() < len(df34['Annual'])*0.3:\n",
    "    df34['Annual'].fillna((df34['Annual'].mean()), inplace=True) \n",
    "else:\n",
    "    df34['Annual'].fillna((df34['Annual'].median()), inplace=True)\n",
    "    \n",
    "df34.columns = ['Year', 'Traralgon']"
   ]
  },
  {
   "cell_type": "code",
   "execution_count": 37,
   "metadata": {},
   "outputs": [],
   "source": [
    "df35 = pd.read_csv(\"wangaratta.csv\")\n",
    "df35 = df35[['Year', 'Annual']] #selecting only two columns for the final dataset\n",
    "df35 = df35[(df35['Year'] > 1990) & (df35['Year']<2019)]\n",
    "if df35['Annual'].isnull().sum() < len(df35['Annual'])*0.3:\n",
    "    df35['Annual'].fillna((df35['Annual'].mean()), inplace=True) \n",
    "else:\n",
    "    df35['Annual'].fillna((df35['Annual'].median()), inplace=True)\n",
    "    \n",
    "df35.columns = ['Year', 'Wangartta']"
   ]
  },
  {
   "cell_type": "code",
   "execution_count": 38,
   "metadata": {},
   "outputs": [],
   "source": [
    "df36 = pd.read_csv(\"warracknabeal.csv\")\n",
    "df36 = df36[['Year', 'Annual']] #selecting only two columns for the final dataset\n",
    "df36 = df36[(df36['Year'] > 1990) & (df36['Year']<2019)]\n",
    "if df36['Annual'].isnull().sum() < len(df36['Annual'])*0.3:\n",
    "    df36['Annual'].fillna((df36['Annual'].mean()), inplace=True) \n",
    "else:\n",
    "    df36['Annual'].fillna((df36['Annual'].median()), inplace=True)\n",
    "    \n",
    "df36.columns = ['Year', 'Warracknabeal']"
   ]
  },
  {
   "cell_type": "code",
   "execution_count": 39,
   "metadata": {},
   "outputs": [],
   "source": [
    "df37 = pd.read_csv(\"warragul.csv\")\n",
    "df37 = df37[['Year', 'Annual']] #selecting only two columns for the final dataset\n",
    "df37 = df37[(df37['Year'] > 1990) & (df37['Year']<2019)]\n",
    "if df37['Annual'].isnull().sum() < len(df37['Annual'])*0.3:\n",
    "    df37['Annual'].fillna((df37['Annual'].mean()), inplace=True) \n",
    "else:\n",
    "    df37['Annual'].fillna((df37['Annual'].median()), inplace=True)\n",
    "    \n",
    "df37.columns = ['Year', 'Warragul']"
   ]
  },
  {
   "cell_type": "code",
   "execution_count": 40,
   "metadata": {},
   "outputs": [],
   "source": [
    "df38 = pd.read_csv(\"warrnambool.csv\")\n",
    "df38 = df38[['Year', 'Annual']] #selecting only two columns for the final dataset\n",
    "df38 = df38[(df38['Year'] > 1990) & (df38['Year']<2019)]\n",
    "if df38['Annual'].isnull().sum() < len(df38['Annual'])*0.3:\n",
    "    df38['Annual'].fillna((df38['Annual'].mean()), inplace=True) \n",
    "else:\n",
    "    df38['Annual'].fillna((df38['Annual'].median()), inplace=True)\n",
    "    \n",
    "df38.columns = ['Year', 'Warrnambool']"
   ]
  },
  {
   "cell_type": "code",
   "execution_count": 41,
   "metadata": {},
   "outputs": [],
   "source": [
    "#df39 = pd.read_csv(\"wodonga.csv\")\n",
    "#df39 = df39[['Year', 'Annual']] #selecting only two columns for the final dataset\n",
    "#df39 = df39[(df39['Year'] > 1990) & (df39['Year']<2019)]\n",
    "#if df39['Annual'].isnull().sum() < len(df39['Annual'])*0.3:\n",
    "#    df39['Annual'].fillna((df39['Annual'].mean()), inplace=True) \n",
    "#else:\n",
    "#    df39['Annual'].fillna((df39['Annual'].median()), inplace=True)\n",
    "    \n",
    "#df39.columns = ['Year', 'Wodonga']"
   ]
  },
  {
   "cell_type": "code",
   "execution_count": 42,
   "metadata": {},
   "outputs": [],
   "source": [
    "df40 = pd.read_csv(\"wonthaggi.csv\")\n",
    "df40 = df40[['Year', 'Annual']] #selecting only two columns for the final dataset\n",
    "df40 = df40[(df40['Year'] > 1990) & (df40['Year']<2019)]\n",
    "if df40['Annual'].isnull().sum() < len(df40['Annual'])*0.3:\n",
    "    df40['Annual'].fillna((df40['Annual'].mean()), inplace=True) \n",
    "else:\n",
    "    df40['Annual'].fillna((df40['Annual'].median()), inplace=True)\n",
    "    \n",
    "df40.columns = ['Year', 'Wonthaggi']"
   ]
  },
  {
   "cell_type": "code",
   "execution_count": 43,
   "metadata": {},
   "outputs": [],
   "source": [
    "df41 = pd.read_csv(\"wilsons.csv\")\n",
    "df41 = df41[['Year', 'Annual']] #selecting only two columns for the final dataset\n",
    "df41 = df41[(df41['Year'] > 1990) & (df41['Year']<2019)]\n",
    "if df41['Annual'].isnull().sum() < len(df41['Annual'])*0.3:\n",
    "    df41['Annual'].fillna((df41['Annual'].mean()), inplace=True) \n",
    "else:\n",
    "    df41['Annual'].fillna((df41['Annual'].median()), inplace=True)\n",
    "    \n",
    "df41.columns = ['Year', 'Wilsons']"
   ]
  },
  {
   "cell_type": "code",
   "execution_count": 44,
   "metadata": {},
   "outputs": [],
   "source": [
    "df42 = pd.read_csv(\"yaraglen.csv\")\n",
    "df42 = df42[['Year', 'Annual']] #selecting only two columns for the final dataset\n",
    "df42 = df42[(df42['Year'] > 1990) & (df42['Year']<2019)]\n",
    "if df42['Annual'].isnull().sum() < len(df42['Annual'])*0.3:\n",
    "    df42['Annual'].fillna((df42['Annual'].mean()), inplace=True) \n",
    "else:\n",
    "    df42['Annual'].fillna((df42['Annual'].median()), inplace=True)\n",
    "    \n",
    "df42.columns = ['Year', 'Yaraglen']"
   ]
  },
  {
   "cell_type": "code",
   "execution_count": 45,
   "metadata": {},
   "outputs": [],
   "source": [
    "df43 = pd.read_csv(\"bright.csv\")\n",
    "df43 = df43[['Year', 'Annual']] #selecting only two columns for the final dataset\n",
    "df43 = df43[(df43['Year'] > 1990) & (df43['Year']<2019)]\n",
    "df43 = df43.interpolate()\n",
    "if df43['Annual'].isnull().sum() < len(df43['Annual'])*0.3:\n",
    "    df43['Annual'].fillna((df43['Annual'].mean()), inplace=True) \n",
    "else:\n",
    "    df43['Annual'].fillna((df43['Annual'].median()), inplace=True)\n",
    "    \n",
    "df43.columns = ['Year', 'Bright']"
   ]
  },
  {
   "cell_type": "code",
   "execution_count": null,
   "metadata": {},
   "outputs": [],
   "source": []
  },
  {
   "cell_type": "markdown",
   "metadata": {},
   "source": [
    "## Merging above data frames for creating final data frame using left join"
   ]
  },
  {
   "cell_type": "code",
   "execution_count": 46,
   "metadata": {},
   "outputs": [],
   "source": [
    "df = df1.merge(df2, how='left') "
   ]
  },
  {
   "cell_type": "code",
   "execution_count": 47,
   "metadata": {},
   "outputs": [],
   "source": [
    "df = df.merge(df3, how='left') "
   ]
  },
  {
   "cell_type": "code",
   "execution_count": 48,
   "metadata": {},
   "outputs": [],
   "source": [
    "df = df.merge(df4, how='left') "
   ]
  },
  {
   "cell_type": "code",
   "execution_count": 49,
   "metadata": {},
   "outputs": [],
   "source": [
    "df = df.merge(df43, how='left') "
   ]
  },
  {
   "cell_type": "code",
   "execution_count": 50,
   "metadata": {},
   "outputs": [],
   "source": [
    "df = df.merge(df5, how='left') "
   ]
  },
  {
   "cell_type": "code",
   "execution_count": 51,
   "metadata": {},
   "outputs": [],
   "source": [
    "df = df.merge(df6, how='left') "
   ]
  },
  {
   "cell_type": "code",
   "execution_count": 52,
   "metadata": {},
   "outputs": [],
   "source": [
    "df = df.merge(df7, how='left')"
   ]
  },
  {
   "cell_type": "code",
   "execution_count": 53,
   "metadata": {},
   "outputs": [],
   "source": [
    "df = df.merge(df8, how='left') "
   ]
  },
  {
   "cell_type": "code",
   "execution_count": 54,
   "metadata": {},
   "outputs": [],
   "source": [
    "df = df.merge(df9, how='left') "
   ]
  },
  {
   "cell_type": "code",
   "execution_count": 55,
   "metadata": {},
   "outputs": [],
   "source": [
    "df = df.merge(df10, how='left') "
   ]
  },
  {
   "cell_type": "code",
   "execution_count": 56,
   "metadata": {},
   "outputs": [],
   "source": [
    "df = df.merge(df11, how='left')"
   ]
  },
  {
   "cell_type": "code",
   "execution_count": 57,
   "metadata": {},
   "outputs": [],
   "source": [
    "df = df.merge(df12, how='left') "
   ]
  },
  {
   "cell_type": "code",
   "execution_count": 58,
   "metadata": {},
   "outputs": [],
   "source": [
    "df = df.merge(df13, how='left') "
   ]
  },
  {
   "cell_type": "code",
   "execution_count": 59,
   "metadata": {},
   "outputs": [],
   "source": [
    "df = df.merge(df14, how='left') "
   ]
  },
  {
   "cell_type": "code",
   "execution_count": 60,
   "metadata": {},
   "outputs": [],
   "source": [
    "df = df.merge(df15, how='left') "
   ]
  },
  {
   "cell_type": "code",
   "execution_count": 61,
   "metadata": {},
   "outputs": [],
   "source": [
    "df = df.merge(df16, how='left') "
   ]
  },
  {
   "cell_type": "code",
   "execution_count": 62,
   "metadata": {},
   "outputs": [],
   "source": [
    "df = df.merge(df17, how='left') "
   ]
  },
  {
   "cell_type": "code",
   "execution_count": 63,
   "metadata": {},
   "outputs": [],
   "source": [
    "df = df.merge(df18, how='left') "
   ]
  },
  {
   "cell_type": "code",
   "execution_count": 64,
   "metadata": {},
   "outputs": [],
   "source": [
    "df = df.merge(df19, how='left') "
   ]
  },
  {
   "cell_type": "code",
   "execution_count": 65,
   "metadata": {},
   "outputs": [],
   "source": [
    "df = df.merge(df20, how='left')"
   ]
  },
  {
   "cell_type": "code",
   "execution_count": 66,
   "metadata": {},
   "outputs": [],
   "source": [
    "df = df.merge(df21, how='left') "
   ]
  },
  {
   "cell_type": "code",
   "execution_count": 67,
   "metadata": {},
   "outputs": [],
   "source": [
    "df = df.merge(df22, how='left') "
   ]
  },
  {
   "cell_type": "code",
   "execution_count": 68,
   "metadata": {},
   "outputs": [],
   "source": [
    "df = df.merge(df23, how='left') "
   ]
  },
  {
   "cell_type": "code",
   "execution_count": 69,
   "metadata": {},
   "outputs": [],
   "source": [
    "df = df.merge(df24, how='left') "
   ]
  },
  {
   "cell_type": "code",
   "execution_count": 70,
   "metadata": {},
   "outputs": [],
   "source": [
    "df = df.merge(df25, how='left') "
   ]
  },
  {
   "cell_type": "code",
   "execution_count": 71,
   "metadata": {},
   "outputs": [],
   "source": [
    "df = df.merge(df26, how='left') "
   ]
  },
  {
   "cell_type": "code",
   "execution_count": 72,
   "metadata": {},
   "outputs": [],
   "source": [
    "df = df.merge(df27, how='left') "
   ]
  },
  {
   "cell_type": "code",
   "execution_count": null,
   "metadata": {},
   "outputs": [],
   "source": []
  },
  {
   "cell_type": "code",
   "execution_count": 73,
   "metadata": {},
   "outputs": [],
   "source": [
    "df = df.merge(df28, how='left') "
   ]
  },
  {
   "cell_type": "code",
   "execution_count": 74,
   "metadata": {},
   "outputs": [],
   "source": [
    "df = df.merge(df29, how='left') "
   ]
  },
  {
   "cell_type": "code",
   "execution_count": 75,
   "metadata": {},
   "outputs": [],
   "source": [
    "df = df.merge(df30, how='left')"
   ]
  },
  {
   "cell_type": "code",
   "execution_count": 76,
   "metadata": {},
   "outputs": [],
   "source": [
    "df = df.merge(df31, how='left') "
   ]
  },
  {
   "cell_type": "code",
   "execution_count": 77,
   "metadata": {},
   "outputs": [],
   "source": [
    "df = df.merge(df32, how='left') "
   ]
  },
  {
   "cell_type": "code",
   "execution_count": 78,
   "metadata": {},
   "outputs": [],
   "source": [
    "df = df.merge(df33, how='left') "
   ]
  },
  {
   "cell_type": "code",
   "execution_count": 79,
   "metadata": {},
   "outputs": [],
   "source": [
    "df = df.merge(df34, how='left') "
   ]
  },
  {
   "cell_type": "code",
   "execution_count": 80,
   "metadata": {},
   "outputs": [],
   "source": [
    "df = df.merge(df35, how='left') "
   ]
  },
  {
   "cell_type": "code",
   "execution_count": 81,
   "metadata": {},
   "outputs": [],
   "source": [
    "df = df.merge(df36, how='left') "
   ]
  },
  {
   "cell_type": "code",
   "execution_count": 82,
   "metadata": {},
   "outputs": [],
   "source": [
    "df = df.merge(df37, how='left') "
   ]
  },
  {
   "cell_type": "code",
   "execution_count": 83,
   "metadata": {},
   "outputs": [],
   "source": [
    "df = df.merge(df38, how='left') "
   ]
  },
  {
   "cell_type": "code",
   "execution_count": 84,
   "metadata": {},
   "outputs": [],
   "source": [
    "#df = df.merge(df39, how='left') "
   ]
  },
  {
   "cell_type": "code",
   "execution_count": 85,
   "metadata": {},
   "outputs": [],
   "source": [
    "df = df.merge(df40, how='left')"
   ]
  },
  {
   "cell_type": "code",
   "execution_count": 86,
   "metadata": {},
   "outputs": [],
   "source": [
    "df = df.merge(df41, how='left') "
   ]
  },
  {
   "cell_type": "code",
   "execution_count": 87,
   "metadata": {},
   "outputs": [],
   "source": [
    "df = df.merge(df42, how='left')"
   ]
  },
  {
   "cell_type": "code",
   "execution_count": 88,
   "metadata": {},
   "outputs": [],
   "source": [
    "df = round(df,1)"
   ]
  },
  {
   "cell_type": "code",
   "execution_count": 89,
   "metadata": {},
   "outputs": [
    {
     "data": {
      "text/plain": [
       "(28, 43)"
      ]
     },
     "execution_count": 89,
     "metadata": {},
     "output_type": "execute_result"
    }
   ],
   "source": [
    "df.shape"
   ]
  },
  {
   "cell_type": "code",
   "execution_count": 90,
   "metadata": {},
   "outputs": [
    {
     "data": {
      "text/plain": [
       "Year              2004.500000\n",
       "Bacchus            490.682143\n",
       "Bairnsdale         628.092857\n",
       "Ballarat           623.110714\n",
       "Bendigo            510.214286\n",
       "Bright            1100.789286\n",
       "Buchan             754.007143\n",
       "Caufield           669.896429\n",
       "Colac              641.342857\n",
       "Corryong          1041.489286\n",
       "Dargo              713.410714\n",
       "Daylesford         844.110714\n",
       "Echuca             396.492857\n",
       "Edenhope           568.550000\n",
       "Euroa              646.512000\n",
       "Frankston          773.396429\n",
       "Geelong            511.667857\n",
       "Hamilton           608.421429\n",
       "Horsham            411.214286\n",
       "Kerang             369.385714\n",
       "Lascelles          337.375000\n",
       "Mansfield          670.435714\n",
       "Maryborough        510.896429\n",
       "Mildura            259.285714\n",
       "Mtbaw             1078.289286\n",
       "Murrayville        320.053571\n",
       "Orbost             819.578571\n",
       "Ouyen              316.942857\n",
       "Portland           682.615385\n",
       "Rainbow Werrap     312.192857\n",
       "Sale               540.489286\n",
       "Seymour            597.496429\n",
       "Shepparton         481.372000\n",
       "Stawell            536.642857\n",
       "Swanhill           326.839286\n",
       "Traralgon          719.817857\n",
       "Wangartta          597.503571\n",
       "Warracknabeal      352.750000\n",
       "Warragul           951.932143\n",
       "Warrnambool        863.721429\n",
       "Wonthaggi          977.425000\n",
       "Wilsons            844.982143\n",
       "Yaraglen          1309.646429\n",
       "dtype: float64"
      ]
     },
     "execution_count": 90,
     "metadata": {},
     "output_type": "execute_result"
    }
   ],
   "source": [
    "df.mean()"
   ]
  },
  {
   "cell_type": "markdown",
   "metadata": {},
   "source": [
    "## Exploratory Data Analysis"
   ]
  },
  {
   "cell_type": "markdown",
   "metadata": {},
   "source": [
    "Now the boxplot will give the idea of outliers for every column."
   ]
  },
  {
   "cell_type": "code",
   "execution_count": 91,
   "metadata": {},
   "outputs": [
    {
     "data": {
      "text/plain": [
       "<AxesSubplot:>"
      ]
     },
     "execution_count": 91,
     "metadata": {},
     "output_type": "execute_result"
    },
    {
     "data": {
      "image/png": "[encoded data removed]",
      "text/plain": [
       "<Figure size 4320x720 with 1 Axes>"
      ]
     },
     "metadata": {
      "needs_background": "light"
     },
     "output_type": "display_data"
    }
   ],
   "source": [
    "df.boxplot(figsize=(60,10))"
   ]
  },
  {
   "cell_type": "code",
   "execution_count": 92,
   "metadata": {},
   "outputs": [
    {
     "data": {
      "text/plain": [
       "Year              0.000000\n",
       "Bacchus           0.908125\n",
       "Bairnsdale       -0.220149\n",
       "Ballarat          0.043855\n",
       "Bendigo           1.398973\n",
       "Bright           -1.234121\n",
       "Buchan           -0.413073\n",
       "Caufield         -0.054079\n",
       "Colac             1.529759\n",
       "Corryong          0.047789\n",
       "Dargo            -0.909713\n",
       "Daylesford        0.406744\n",
       "Echuca            0.431686\n",
       "Edenhope          0.793036\n",
       "Euroa             0.092779\n",
       "Frankston        -0.026394\n",
       "Geelong           0.139621\n",
       "Hamilton          0.487811\n",
       "Horsham           0.420990\n",
       "Kerang            0.972367\n",
       "Lascelles         0.904776\n",
       "Mansfield        -0.083072\n",
       "Maryborough       0.903440\n",
       "Mildura           1.745683\n",
       "Mtbaw            -0.093450\n",
       "Murrayville       0.368378\n",
       "Orbost           -0.789303\n",
       "Ouyen             0.682365\n",
       "Portland          2.357002\n",
       "Rainbow Werrap    1.022493\n",
       "Sale             -0.250762\n",
       "Seymour          -0.639211\n",
       "Shepparton        0.582021\n",
       "Stawell           0.134548\n",
       "Swanhill          0.738461\n",
       "Traralgon        -0.079990\n",
       "Wangartta         0.349776\n",
       "Warracknabeal     0.390801\n",
       "Warragul          0.099572\n",
       "Warrnambool      -0.146600\n",
       "Wonthaggi         0.287034\n",
       "Wilsons          -0.691933\n",
       "Yaraglen          0.143416\n",
       "dtype: float64"
      ]
     },
     "execution_count": 92,
     "metadata": {},
     "output_type": "execute_result"
    }
   ],
   "source": [
    "df.skew() #skewness to see the distribution of data"
   ]
  },
  {
   "cell_type": "markdown",
   "metadata": {},
   "source": [
    "##### These hist plots can the show the data distribution more clearly than the above skew() function."
   ]
  },
  {
   "cell_type": "code",
   "execution_count": 93,
   "metadata": {
    "scrolled": false
   },
   "outputs": [
    {
     "data": {
      "text/plain": [
       "array([[<AxesSubplot:title={'center':'Year'}>,\n",
       "        <AxesSubplot:title={'center':'Bacchus'}>,\n",
       "        <AxesSubplot:title={'center':'Bairnsdale'}>,\n",
       "        <AxesSubplot:title={'center':'Ballarat'}>,\n",
       "        <AxesSubplot:title={'center':'Bendigo'}>,\n",
       "        <AxesSubplot:title={'center':'Bright'}>,\n",
       "        <AxesSubplot:title={'center':'Buchan'}>],\n",
       "       [<AxesSubplot:title={'center':'Caufield'}>,\n",
       "        <AxesSubplot:title={'center':'Colac'}>,\n",
       "        <AxesSubplot:title={'center':'Corryong'}>,\n",
       "        <AxesSubplot:title={'center':'Dargo'}>,\n",
       "        <AxesSubplot:title={'center':'Daylesford'}>,\n",
       "        <AxesSubplot:title={'center':'Echuca'}>,\n",
       "        <AxesSubplot:title={'center':'Edenhope'}>],\n",
       "       [<AxesSubplot:title={'center':'Euroa'}>,\n",
       "        <AxesSubplot:title={'center':'Frankston'}>,\n",
       "        <AxesSubplot:title={'center':'Geelong'}>,\n",
       "        <AxesSubplot:title={'center':'Hamilton'}>,\n",
       "        <AxesSubplot:title={'center':'Horsham'}>,\n",
       "        <AxesSubplot:title={'center':'Kerang'}>,\n",
       "        <AxesSubplot:title={'center':'Lascelles'}>],\n",
       "       [<AxesSubplot:title={'center':'Mansfield'}>,\n",
       "        <AxesSubplot:title={'center':'Maryborough'}>,\n",
       "        <AxesSubplot:title={'center':'Mildura'}>,\n",
       "        <AxesSubplot:title={'center':'Mtbaw'}>,\n",
       "        <AxesSubplot:title={'center':'Murrayville'}>,\n",
       "        <AxesSubplot:title={'center':'Orbost'}>,\n",
       "        <AxesSubplot:title={'center':'Ouyen'}>],\n",
       "       [<AxesSubplot:title={'center':'Portland'}>,\n",
       "        <AxesSubplot:title={'center':'Rainbow Werrap'}>,\n",
       "        <AxesSubplot:title={'center':'Sale'}>,\n",
       "        <AxesSubplot:title={'center':'Seymour'}>,\n",
       "        <AxesSubplot:title={'center':'Shepparton'}>,\n",
       "        <AxesSubplot:title={'center':'Stawell'}>,\n",
       "        <AxesSubplot:title={'center':'Swanhill'}>],\n",
       "       [<AxesSubplot:title={'center':'Traralgon'}>,\n",
       "        <AxesSubplot:title={'center':'Wangartta'}>,\n",
       "        <AxesSubplot:title={'center':'Warracknabeal'}>,\n",
       "        <AxesSubplot:title={'center':'Warragul'}>,\n",
       "        <AxesSubplot:title={'center':'Warrnambool'}>,\n",
       "        <AxesSubplot:title={'center':'Wonthaggi'}>,\n",
       "        <AxesSubplot:title={'center':'Wilsons'}>],\n",
       "       [<AxesSubplot:title={'center':'Yaraglen'}>, <AxesSubplot:>,\n",
       "        <AxesSubplot:>, <AxesSubplot:>, <AxesSubplot:>, <AxesSubplot:>,\n",
       "        <AxesSubplot:>]], dtype=object)"
      ]
     },
     "execution_count": 93,
     "metadata": {},
     "output_type": "execute_result"
    },
    {
     "data": {
      "image/png": "[encoded data removed]",
      "text/plain": [
       "<Figure size 1440x1440 with 49 Axes>"
      ]
     },
     "metadata": {
      "needs_background": "light"
     },
     "output_type": "display_data"
    }
   ],
   "source": [
    "df.hist(figsize=(20,20))"
   ]
  },
  {
   "cell_type": "code",
   "execution_count": null,
   "metadata": {},
   "outputs": [],
   "source": []
  },
  {
   "cell_type": "code",
   "execution_count": 94,
   "metadata": {},
   "outputs": [],
   "source": [
    "for i in df[1:].columns:\n",
    "    if df[i].isnull().sum() > 0:\n",
    "        df[i] = df.fillna((df[i].mean()), inplace=True)"
   ]
  },
  {
   "cell_type": "code",
   "execution_count": 95,
   "metadata": {},
   "outputs": [],
   "source": [
    "df.drop('Euroa', axis=1, inplace=True)"
   ]
  },
  {
   "cell_type": "code",
   "execution_count": 96,
   "metadata": {},
   "outputs": [],
   "source": [
    "#df.set_index('Year', inplace=True)"
   ]
  },
  {
   "cell_type": "code",
   "execution_count": 97,
   "metadata": {},
   "outputs": [],
   "source": [
    "#df.to_csv('final_rainfall.csv')"
   ]
  },
  {
   "cell_type": "code",
   "execution_count": null,
   "metadata": {},
   "outputs": [],
   "source": []
  },
  {
   "cell_type": "code",
   "execution_count": 98,
   "metadata": {},
   "outputs": [
    {
     "data": {
      "text/plain": [
       "<AxesSubplot:xlabel='Year', ylabel='Ouyen'>"
      ]
     },
     "execution_count": 98,
     "metadata": {},
     "output_type": "execute_result"
    },
    {
     "data": {
      "image/png": "[encoded data removed]",
      "text/plain": [
       "<Figure size 504x288 with 1 Axes>"
      ]
     },
     "metadata": {},
     "output_type": "display_data"
    }
   ],
   "source": [
    "plt.rcParams[\"figure.figsize\"] = [7, 4]\n",
    "plt.rcParams[\"figure.autolayout\"] = True\n",
    "\n",
    "sns.set(style = 'darkgrid')\n",
    "\n",
    "sns.regplot(x = \"Year\", y = \"Ouyen\", ci = 90, data = df, fit_reg = True, \n",
    "            color='darkblue', scatter_kws={\"color\": 'brown'}, line_kws={\"color\": \"darkblue\"})"
   ]
  },
  {
   "cell_type": "code",
   "execution_count": 99,
   "metadata": {
    "scrolled": true
   },
   "outputs": [
    {
     "data": {
      "text/plain": [
       "<AxesSubplot:xlabel='Year'>"
      ]
     },
     "execution_count": 99,
     "metadata": {},
     "output_type": "execute_result"
    },
    {
     "data": {
      "image/png": "[encoded data removed]",
      "text/plain": [
       "<Figure size 504x288 with 1 Axes>"
      ]
     },
     "metadata": {},
     "output_type": "display_data"
    }
   ],
   "source": [
    "df.plot(kind='bar', x='Year', y='Ouyen')"
   ]
  },
  {
   "cell_type": "code",
   "execution_count": null,
   "metadata": {},
   "outputs": [],
   "source": []
  },
  {
   "cell_type": "code",
   "execution_count": null,
   "metadata": {},
   "outputs": [],
   "source": []
  },
  {
   "cell_type": "code",
   "execution_count": 100,
   "metadata": {},
   "outputs": [
    {
     "data": {
      "text/html": [
       "<div>\n",
       "<style scoped>\n",
       "    .dataframe tbody tr th:only-of-type {\n",
       "        vertical-align: middle;\n",
       "    }\n",
       "\n",
       "    .dataframe tbody tr th {\n",
       "        vertical-align: top;\n",
       "    }\n",
       "\n",
       "    .dataframe thead th {\n",
       "        text-align: right;\n",
       "    }\n",
       "</style>\n",
       "<table border=\"1\" class=\"dataframe\">\n",
       "  <thead>\n",
       "    <tr style=\"text-align: right;\">\n",
       "      <th></th>\n",
       "      <th>Year</th>\n",
       "      <th>variable</th>\n",
       "      <th>value</th>\n",
       "    </tr>\n",
       "  </thead>\n",
       "  <tbody>\n",
       "    <tr>\n",
       "      <th>0</th>\n",
       "      <td>1991</td>\n",
       "      <td>Bacchus</td>\n",
       "      <td>518.6</td>\n",
       "    </tr>\n",
       "    <tr>\n",
       "      <th>1</th>\n",
       "      <td>1992</td>\n",
       "      <td>Bacchus</td>\n",
       "      <td>672.8</td>\n",
       "    </tr>\n",
       "    <tr>\n",
       "      <th>2</th>\n",
       "      <td>1993</td>\n",
       "      <td>Bacchus</td>\n",
       "      <td>606.0</td>\n",
       "    </tr>\n",
       "    <tr>\n",
       "      <th>3</th>\n",
       "      <td>1994</td>\n",
       "      <td>Bacchus</td>\n",
       "      <td>343.2</td>\n",
       "    </tr>\n",
       "    <tr>\n",
       "      <th>4</th>\n",
       "      <td>1995</td>\n",
       "      <td>Bacchus</td>\n",
       "      <td>698.3</td>\n",
       "    </tr>\n",
       "    <tr>\n",
       "      <th>...</th>\n",
       "      <td>...</td>\n",
       "      <td>...</td>\n",
       "      <td>...</td>\n",
       "    </tr>\n",
       "    <tr>\n",
       "      <th>1143</th>\n",
       "      <td>2014</td>\n",
       "      <td>Yaraglen</td>\n",
       "      <td>1312.0</td>\n",
       "    </tr>\n",
       "    <tr>\n",
       "      <th>1144</th>\n",
       "      <td>2015</td>\n",
       "      <td>Yaraglen</td>\n",
       "      <td>1089.5</td>\n",
       "    </tr>\n",
       "    <tr>\n",
       "      <th>1145</th>\n",
       "      <td>2016</td>\n",
       "      <td>Yaraglen</td>\n",
       "      <td>1352.0</td>\n",
       "    </tr>\n",
       "    <tr>\n",
       "      <th>1146</th>\n",
       "      <td>2017</td>\n",
       "      <td>Yaraglen</td>\n",
       "      <td>1274.2</td>\n",
       "    </tr>\n",
       "    <tr>\n",
       "      <th>1147</th>\n",
       "      <td>2018</td>\n",
       "      <td>Yaraglen</td>\n",
       "      <td>968.4</td>\n",
       "    </tr>\n",
       "  </tbody>\n",
       "</table>\n",
       "<p>1148 rows × 3 columns</p>\n",
       "</div>"
      ],
      "text/plain": [
       "      Year  variable   value\n",
       "0     1991   Bacchus   518.6\n",
       "1     1992   Bacchus   672.8\n",
       "2     1993   Bacchus   606.0\n",
       "3     1994   Bacchus   343.2\n",
       "4     1995   Bacchus   698.3\n",
       "...    ...       ...     ...\n",
       "1143  2014  Yaraglen  1312.0\n",
       "1144  2015  Yaraglen  1089.5\n",
       "1145  2016  Yaraglen  1352.0\n",
       "1146  2017  Yaraglen  1274.2\n",
       "1147  2018  Yaraglen   968.4\n",
       "\n",
       "[1148 rows x 3 columns]"
      ]
     },
     "execution_count": 100,
     "metadata": {},
     "output_type": "execute_result"
    }
   ],
   "source": [
    "df123 = pd.melt(df, id_vars = ['Year'])\n",
    "df123"
   ]
  },
  {
   "cell_type": "code",
   "execution_count": 102,
   "metadata": {},
   "outputs": [],
   "source": [
    "#df123.plot(kind='pie', figsize=(15,10))"
   ]
  },
  {
   "cell_type": "code",
   "execution_count": null,
   "metadata": {
    "scrolled": false
   },
   "outputs": [],
   "source": [
    "#df.plot(subplots=True, layout=(41,41))"
   ]
  },
  {
   "cell_type": "code",
   "execution_count": null,
   "metadata": {},
   "outputs": [],
   "source": []
  }
 ],
 "metadata": {
  "kernelspec": {
   "display_name": "Python 3",
   "language": "python",
   "name": "python3"
  },
  "language_info": {
   "codemirror_mode": {
    "name": "ipython",
    "version": 3
   },
   "file_extension": ".py",
   "mimetype": "text/x-python",
   "name": "python",
   "nbconvert_exporter": "python",
   "pygments_lexer": "ipython3",
   "version": "3.8.5"
  }
 },
 "nbformat": 4,
 "nbformat_minor": 4
}
